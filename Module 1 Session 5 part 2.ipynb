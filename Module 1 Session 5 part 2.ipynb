{
 "cells": [
  {
   "cell_type": "code",
   "execution_count": 14,
   "id": "8ffe9df7",
   "metadata": {},
   "outputs": [],
   "source": [
    "import cv2\n",
    "src = 'boat.webp'\n",
    "input_image = cv2.imread(src)\n",
    "cv2.imshow('Original image', input_image)\n",
    "cv2.waitKey(0)\n",
    "if input_image is None:\n",
    "    print('Could not open image: ', input_image)\n",
    "    exit(0)\n",
    "#Greyscale version of the input \n",
    "gray = cv2.cvtColor(input_image, cv2.COLOR_BGR2GRAY)\n",
    "#displaying the grayscale version\n",
    "cv2.imshow('Grayscale image', gray)\n",
    "\n",
    "cv2.waitKey(0)\n",
    "cv2.destroyAllWindows()"
   ]
  },
  {
   "cell_type": "code",
   "execution_count": 15,
   "id": "bd5c6b53",
   "metadata": {},
   "outputs": [],
   "source": [
    "#Seperating the BGR and Combining BGR Channels \n",
    "\n",
    "import cv2\n",
    "import numpy as np\n",
    "src = \"boat.webp\"\n",
    "input_image = cv2.imread(src)\n",
    "if input_image is None:\n",
    "    print('Could not load the image', input_image)\n",
    "    exit(0)\n",
    "    \n",
    "#Splitting image into RGB channels\n",
    "blue, green, red = cv2.split(input_image)\n",
    "cv2.imshow('Blue - Gray Scale', blue)\n",
    "cv2.waitKey(0)\n",
    "cv2.destroyAllWindows()\n",
    "cv2.imshow('Green - Gray Scale', green)\n",
    "cv2.waitKey(0)\n",
    "cv2.destroyAllWindows()\n",
    "cv2.imshow('Red - Gray Scale', red)\n",
    "cv2.waitKey(0)\n",
    "cv2.destroyAllWindows() #these are used for user convenience"
   ]
  },
  {
   "cell_type": "code",
   "execution_count": 12,
   "id": "5b10b57f",
   "metadata": {},
   "outputs": [],
   "source": [
    "#We create a dummy of 3d Array \n",
    "blue_channel = np.zeros(input_image.shape, input_image.dtype)\n",
    "green_channel = np.zeros(input_image.shape, input_image.dtype)\n",
    "red_channel = np.zeros(input_image.shape, input_image.dtype) # same shape and size\n",
    "\n",
    "cv2.mixChannels([blue, green, red], [blue_channel], [0,0])\n",
    "cv2.mixChannels([blue, green, red], [green_channel], [1,1])\n",
    "cv2.mixChannels([blue, green, red], [red_channel], [2,2]) #rendering of code\n",
    "\n",
    "cv2.imshow('Blue Channel', blue_channel)\n",
    "cv2.waitKey(0)\n",
    "cv2.destroyAllWindows()\n",
    "cv2.imshow('Green Channel', green_channel)\n",
    "cv2.waitKey(0)\n",
    "cv2.destroyAllWindows()\n",
    "cv2.imshow('Red Channel', red_channel)\n",
    "cv2.waitKey(0)\n",
    "cv2.destroyAllWindows()"
   ]
  },
  {
   "cell_type": "code",
   "execution_count": 16,
   "id": "30040376",
   "metadata": {},
   "outputs": [],
   "source": [
    "#Bluring the image \n",
    "import cv2\n",
    "img = cv2.imread(\"boat.webp\")\n",
    "cv2.imshow('Original image', img)\n",
    "cv2.waitKey(0)\n",
    "cv2.destroyAllWindows()\n",
    "blur_image = cv2.medianBlur(img,13)\n",
    "cv2.imshow('blur image', blur_image)\n",
    "cv2.waitKey(0)\n",
    "cv2.destroyAllWindows()"
   ]
  },
  {
   "cell_type": "code",
   "execution_count": null,
   "id": "d4638ca3",
   "metadata": {},
   "outputs": [],
   "source": []
  }
 ],
 "metadata": {
  "kernelspec": {
   "display_name": "Python 3 (ipykernel)",
   "language": "python",
   "name": "python3"
  },
  "language_info": {
   "codemirror_mode": {
    "name": "ipython",
    "version": 3
   },
   "file_extension": ".py",
   "mimetype": "text/x-python",
   "name": "python",
   "nbconvert_exporter": "python",
   "pygments_lexer": "ipython3",
   "version": "3.10.9"
  }
 },
 "nbformat": 4,
 "nbformat_minor": 5
}
